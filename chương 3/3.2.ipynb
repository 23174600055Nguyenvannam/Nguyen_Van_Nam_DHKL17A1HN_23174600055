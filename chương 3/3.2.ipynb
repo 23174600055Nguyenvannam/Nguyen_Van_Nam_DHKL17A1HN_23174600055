{
 "cells": [
  {
   "cell_type": "code",
   "execution_count": 1,
   "metadata": {},
   "outputs": [
    {
     "name": "stdout",
     "output_type": "stream",
     "text": [
      "Array arr: [0 1 2 3 4 5 6 7 8 9]\n",
      "Kiểu phần tử trong arr: int64\n",
      "Kích thước của arr: (10,)\n"
     ]
    }
   ],
   "source": [
    "import numpy as np\n",
    "\n",
    "# Câu 1: Tạo numpy array arr từ 0 đến 9\n",
    "arr = np.arange(10)\n",
    "print(\"Array arr:\", arr)\n",
    "\n",
    "# Hiển thị kiểu dữ liệu và kích thước của arr\n",
    "print(\"Kiểu phần tử trong arr:\", arr.dtype)\n",
    "print(\"Kích thước của arr:\", arr.shape)"
   ]
  },
  {
   "cell_type": "code",
   "execution_count": 2,
   "metadata": {},
   "outputs": [
    {
     "name": "stdout",
     "output_type": "stream",
     "text": [
      "arr_odd: [1 3 5 7 9]\n",
      "arr_even: [0 2 4 6 8]\n"
     ]
    }
   ],
   "source": [
    "# Câu 2: Tạo arr_old (phần tử lẻ) và arr_even (phần tử chẵn)\n",
    "arr_odd = arr[arr % 2 != 0]  # Các phần tử lẻ\n",
    "arr_even = arr[arr % 2 == 0]  # Các phần tử chẵn\n",
    "print(\"arr_odd:\", arr_odd)\n",
    "print(\"arr_even:\", arr_even)"
   ]
  },
  {
   "cell_type": "code",
   "execution_count": 3,
   "metadata": {},
   "outputs": [
    {
     "name": "stdout",
     "output_type": "stream",
     "text": [
      "arr_update_1: [  0 100   2 100   4 100   6 100   8 100]\n"
     ]
    }
   ],
   "source": [
    "# Câu 3: Tạo arr_update_1, phần tử chẵn giữ nguyên, phần tử lẻ thay bằng 100\n",
    "arr_update_1 = np.where(arr % 2 == 0, arr, 100)\n",
    "print(\"arr_update_1:\", arr_update_1)"
   ]
  }
 ],
 "metadata": {
  "kernelspec": {
   "display_name": "Python 3",
   "language": "python",
   "name": "python3"
  },
  "language_info": {
   "codemirror_mode": {
    "name": "ipython",
    "version": 3
   },
   "file_extension": ".py",
   "mimetype": "text/x-python",
   "name": "python",
   "nbconvert_exporter": "python",
   "pygments_lexer": "ipython3",
   "version": "3.11.9"
  }
 },
 "nbformat": 4,
 "nbformat_minor": 2
}
