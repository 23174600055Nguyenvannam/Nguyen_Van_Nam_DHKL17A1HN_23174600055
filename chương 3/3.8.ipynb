{
 "cells": [
  {
   "cell_type": "code",
   "execution_count": 1,
   "metadata": {},
   "outputs": [
    {
     "ename": "FileNotFoundError",
     "evalue": "[Errno 2] No such file or directory: 'heights.txt'",
     "output_type": "error",
     "traceback": [
      "\u001b[1;31m---------------------------------------------------------------------------\u001b[0m",
      "\u001b[1;31mFileNotFoundError\u001b[0m                         Traceback (most recent call last)",
      "Cell \u001b[1;32mIn[1], line 2\u001b[0m\n\u001b[0;32m      1\u001b[0m \u001b[38;5;66;03m# 1. Đọc dữ liệu từ hai tệp heights.txt và positions.txt\u001b[39;00m\n\u001b[1;32m----> 2\u001b[0m \u001b[38;5;28;01mwith\u001b[39;00m \u001b[38;5;28;43mopen\u001b[39;49m\u001b[43m(\u001b[49m\u001b[38;5;124;43m'\u001b[39;49m\u001b[38;5;124;43mheights.txt\u001b[39;49m\u001b[38;5;124;43m'\u001b[39;49m\u001b[43m,\u001b[49m\u001b[43m \u001b[49m\u001b[38;5;124;43m'\u001b[39;49m\u001b[38;5;124;43mr\u001b[39;49m\u001b[38;5;124;43m'\u001b[39;49m\u001b[43m)\u001b[49m \u001b[38;5;28;01mas\u001b[39;00m file_heights:\n\u001b[0;32m      3\u001b[0m     heights \u001b[38;5;241m=\u001b[39m [\u001b[38;5;28mfloat\u001b[39m(line\u001b[38;5;241m.\u001b[39mstrip()) \u001b[38;5;28;01mfor\u001b[39;00m line \u001b[38;5;129;01min\u001b[39;00m file_heights\u001b[38;5;241m.\u001b[39mreadlines()]  \u001b[38;5;66;03m# Đọc chiều cao\u001b[39;00m\n\u001b[0;32m      5\u001b[0m \u001b[38;5;28;01mwith\u001b[39;00m \u001b[38;5;28mopen\u001b[39m(\u001b[38;5;124m'\u001b[39m\u001b[38;5;124mpositions.txt\u001b[39m\u001b[38;5;124m'\u001b[39m, \u001b[38;5;124m'\u001b[39m\u001b[38;5;124mr\u001b[39m\u001b[38;5;124m'\u001b[39m) \u001b[38;5;28;01mas\u001b[39;00m file_positions:\n",
      "File \u001b[1;32m~\\AppData\\Local\\Packages\\PythonSoftwareFoundation.Python.3.11_qbz5n2kfra8p0\\LocalCache\\local-packages\\Python311\\site-packages\\IPython\\core\\interactiveshell.py:324\u001b[0m, in \u001b[0;36m_modified_open\u001b[1;34m(file, *args, **kwargs)\u001b[0m\n\u001b[0;32m    317\u001b[0m \u001b[38;5;28;01mif\u001b[39;00m file \u001b[38;5;129;01min\u001b[39;00m {\u001b[38;5;241m0\u001b[39m, \u001b[38;5;241m1\u001b[39m, \u001b[38;5;241m2\u001b[39m}:\n\u001b[0;32m    318\u001b[0m     \u001b[38;5;28;01mraise\u001b[39;00m \u001b[38;5;167;01mValueError\u001b[39;00m(\n\u001b[0;32m    319\u001b[0m         \u001b[38;5;124mf\u001b[39m\u001b[38;5;124m\"\u001b[39m\u001b[38;5;124mIPython won\u001b[39m\u001b[38;5;124m'\u001b[39m\u001b[38;5;124mt let you open fd=\u001b[39m\u001b[38;5;132;01m{\u001b[39;00mfile\u001b[38;5;132;01m}\u001b[39;00m\u001b[38;5;124m by default \u001b[39m\u001b[38;5;124m\"\u001b[39m\n\u001b[0;32m    320\u001b[0m         \u001b[38;5;124m\"\u001b[39m\u001b[38;5;124mas it is likely to crash IPython. If you know what you are doing, \u001b[39m\u001b[38;5;124m\"\u001b[39m\n\u001b[0;32m    321\u001b[0m         \u001b[38;5;124m\"\u001b[39m\u001b[38;5;124myou can use builtins\u001b[39m\u001b[38;5;124m'\u001b[39m\u001b[38;5;124m open.\u001b[39m\u001b[38;5;124m\"\u001b[39m\n\u001b[0;32m    322\u001b[0m     )\n\u001b[1;32m--> 324\u001b[0m \u001b[38;5;28;01mreturn\u001b[39;00m \u001b[43mio_open\u001b[49m\u001b[43m(\u001b[49m\u001b[43mfile\u001b[49m\u001b[43m,\u001b[49m\u001b[43m \u001b[49m\u001b[38;5;241;43m*\u001b[39;49m\u001b[43margs\u001b[49m\u001b[43m,\u001b[49m\u001b[43m \u001b[49m\u001b[38;5;241;43m*\u001b[39;49m\u001b[38;5;241;43m*\u001b[39;49m\u001b[43mkwargs\u001b[49m\u001b[43m)\u001b[49m\n",
      "\u001b[1;31mFileNotFoundError\u001b[0m: [Errno 2] No such file or directory: 'heights.txt'"
     ]
    }
   ],
   "source": [
    "\n",
    "# 1. Đọc dữ liệu từ hai tệp heights.txt và positions.txt\n",
    "with open('heights.txt', 'r') as file_heights:\n",
    "    heights = [float(line.strip()) for line in file_heights.readlines()]  # Đọc chiều cao\n",
    "\n",
    "with open('positions.txt', 'r') as file_positions:\n",
    "    positions = [line.strip() for line in file_positions.readlines()]  # Đọc vị trí\n",
    "\n",
    "# 1.a) Tạo numpy array np_positions từ list positions\n",
    "np_positions = np.array(positions)\n",
    "print(\"Kiểu dữ liệu của np_positions:\", np_positions.dtype)\n",
    "\n",
    "# 1.b) Tạo numpy array np_heights từ list heights\n",
    "np_heights = np.array(heights)\n",
    "print(\"Kiểu dữ liệu của np_heights:\", np_heights.dtype)"
   ]
  },
  {
   "cell_type": "code",
   "execution_count": null,
   "metadata": {},
   "outputs": [],
   "source": [
    "# 2. Tính chiều cao trung bình của các GK\n",
    "gk_heights = np_heights[np_positions == 'GK']  # Lọc chiều cao của GK\n",
    "avg_height_gk = np.mean(gk_heights)  # Tính chiều cao trung bình của GK\n",
    "print(\"Chiều cao trung bình của các GK:\", avg_height_gk)"
   ]
  },
  {
   "cell_type": "code",
   "execution_count": null,
   "metadata": {},
   "outputs": [],
   "source": [
    "# 3. Tính chiều cao trung bình của những vị trí khác (Không phải là GK)\n",
    "other_heights = np_heights[np_positions != 'GK']  # Lọc chiều cao của các vị trí khác\n",
    "avg_height_others = np.mean(other_heights)  # Tính chiều cao trung bình của các vị trí khác\n",
    "print(\"Chiều cao trung bình của các vị trí khác:\", avg_height_others)\n"
   ]
  },
  {
   "cell_type": "code",
   "execution_count": null,
   "metadata": {},
   "outputs": [],
   "source": [
    "# 4. Tạo mảng dữ liệu có cấu trúc tự định nghĩa players\n",
    "players_dtype = np.dtype([('position', 'U5'), ('height', 'float')])  # Định nghĩa kiểu dữ liệu\n",
    "players = np.empty(len(positions), dtype=players_dtype)  # Tạo mảng rỗng\n",
    "\n",
    "players['position'] = np_positions  # Gán vị trí vào mảng\n",
    "players['height'] = np_heights  # Gán chiều cao vào mảng\n"
   ]
  },
  {
   "cell_type": "code",
   "execution_count": null,
   "metadata": {},
   "outputs": [],
   "source": [
    "# 5. Sắp mảng players theo chiều cao\n",
    "players_sorted = np.sort(players, order='height')  # Sắp xếp theo chiều cao\n",
    "\n",
    "# Chiều cao cao nhất và thấp nhất\n",
    "highest_player = players_sorted[-1]  # Người chơi cao nhất\n",
    "lowest_player = players_sorted[0]  # Người chơi thấp nhất\n",
    "\n",
    "print(\"Vị trí có chiều cao cao nhất:\", highest_player['position'], \"với chiều cao:\", highest_player['height'])\n",
    "print(\"Vị trí có chiều cao thấp nhất:\", lowest_player['position'], \"với chiều cao:\", lowest_player['height'])"
   ]
  }
 ],
 "metadata": {
  "kernelspec": {
   "display_name": "Python 3",
   "language": "python",
   "name": "python3"
  },
  "language_info": {
   "codemirror_mode": {
    "name": "ipython",
    "version": 3
   },
   "file_extension": ".py",
   "mimetype": "text/x-python",
   "name": "python",
   "nbconvert_exporter": "python",
   "pygments_lexer": "ipython3",
   "version": "3.11.9"
  }
 },
 "nbformat": 4,
 "nbformat_minor": 2
}
