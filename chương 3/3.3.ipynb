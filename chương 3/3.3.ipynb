{
 "cells": [
  {
   "cell_type": "code",
   "execution_count": 1,
   "metadata": {},
   "outputs": [
    {
     "name": "stdout",
     "output_type": "stream",
     "text": [
      "arr_c (các phần tử chung của arr_a và arr_b): [2 4]\n"
     ]
    }
   ],
   "source": [
    "import numpy as np\n",
    "\n",
    "# Khởi tạo arr_a và arr_b\n",
    "arr_a = np.array([1, 2, 3, 2, 3, 4, 3, 4, 5, 6])\n",
    "arr_b = np.array([7, 2, 10, 2, 7, 4, 9, 4, 9, 8])\n",
    "\n",
    "# Câu 1: Tạo array arr_c chỉ lấy duy nhất các phần tử xuất hiện ở cả arr_a và arr_b\n",
    "arr_c = np.intersect1d(arr_a, arr_b)\n",
    "print(\"arr_c (các phần tử chung của arr_a và arr_b):\", arr_c)"
   ]
  },
  {
   "cell_type": "code",
   "execution_count": 2,
   "metadata": {},
   "outputs": [
    {
     "name": "stdout",
     "output_type": "stream",
     "text": [
      "arr_d (các phần tử chỉ xuất hiện ở arr_a): [1 3 5 6]\n"
     ]
    }
   ],
   "source": [
    "# Câu 2: Tạo arr_d chứa các phần tử chỉ xuất hiện ở arr_a\n",
    "arr_d = np.setdiff1d(arr_a, arr_b)\n",
    "print(\"arr_d (các phần tử chỉ xuất hiện ở arr_a):\", arr_d)\n"
   ]
  },
  {
   "cell_type": "code",
   "execution_count": 3,
   "metadata": {},
   "outputs": [
    {
     "name": "stdout",
     "output_type": "stream",
     "text": [
      "arr_f (các phần tử từ 5 đến 10 của arr_c): [ 6  9 10  8  6]\n"
     ]
    }
   ],
   "source": [
    "# Câu 3: Lọc các phần tử có giá trị từ 5 đến 10 của arr_c\n",
    "arr_c_2 = np.array([2, 6, 1, 9, 10, 3, 27, 8, 6, 25, 16])\n",
    "arr_f = arr_c_2[(arr_c_2 >= 5) & (arr_c_2 <= 10)]\n",
    "print(\"arr_f (các phần tử từ 5 đến 10 của arr_c):\", arr_f)"
   ]
  }
 ],
 "metadata": {
  "kernelspec": {
   "display_name": "Python 3",
   "language": "python",
   "name": "python3"
  },
  "language_info": {
   "codemirror_mode": {
    "name": "ipython",
    "version": 3
   },
   "file_extension": ".py",
   "mimetype": "text/x-python",
   "name": "python",
   "nbconvert_exporter": "python",
   "pygments_lexer": "ipython3",
   "version": "3.11.9"
  }
 },
 "nbformat": 4,
 "nbformat_minor": 2
}
