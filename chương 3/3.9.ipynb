{
 "cells": [
  {
   "cell_type": "code",
   "execution_count": 2,
   "metadata": {},
   "outputs": [
    {
     "name": "stdout",
     "output_type": "stream",
     "text": [
      "Kiểu dữ liệu của data: <class 'list'>\n"
     ]
    },
    {
     "ename": "IndexError",
     "evalue": "list index out of range",
     "output_type": "error",
     "traceback": [
      "\u001b[1;31m---------------------------------------------------------------------------\u001b[0m",
      "\u001b[1;31mIndexError\u001b[0m                                Traceback (most recent call last)",
      "Cell \u001b[1;32mIn[2], line 10\u001b[0m\n\u001b[0;32m      8\u001b[0m \u001b[38;5;66;03m# In kiểu dữ liệu, kích thước và danh sách các cột\u001b[39;00m\n\u001b[0;32m      9\u001b[0m \u001b[38;5;28mprint\u001b[39m(\u001b[38;5;124m\"\u001b[39m\u001b[38;5;124mKiểu dữ liệu của data:\u001b[39m\u001b[38;5;124m\"\u001b[39m, \u001b[38;5;28mtype\u001b[39m(data))\n\u001b[1;32m---> 10\u001b[0m \u001b[38;5;28mprint\u001b[39m(\u001b[38;5;124m\"\u001b[39m\u001b[38;5;124mKích thước của data:\u001b[39m\u001b[38;5;124m\"\u001b[39m, \u001b[38;5;28mlen\u001b[39m(data), \u001b[38;5;124m\"\u001b[39m\u001b[38;5;124mdòng, \u001b[39m\u001b[38;5;124m\"\u001b[39m, \u001b[38;5;28mlen\u001b[39m(\u001b[43mdata\u001b[49m\u001b[43m[\u001b[49m\u001b[38;5;241;43m0\u001b[39;49m\u001b[43m]\u001b[49m), \u001b[38;5;124m\"\u001b[39m\u001b[38;5;124mcột\u001b[39m\u001b[38;5;124m\"\u001b[39m)\n\u001b[0;32m     11\u001b[0m \u001b[38;5;28mprint\u001b[39m(\u001b[38;5;124m\"\u001b[39m\u001b[38;5;124mDanh sách các cột:\u001b[39m\u001b[38;5;124m\"\u001b[39m, [\u001b[38;5;124m\"\u001b[39m\u001b[38;5;124mTeam\u001b[39m\u001b[38;5;124m\"\u001b[39m, \u001b[38;5;124m\"\u001b[39m\u001b[38;5;124mGoals\u001b[39m\u001b[38;5;124m\"\u001b[39m, \u001b[38;5;124m\"\u001b[39m\u001b[38;5;124mYellow Cards\u001b[39m\u001b[38;5;124m\"\u001b[39m, \u001b[38;5;124m\"\u001b[39m\u001b[38;5;124mRed Cards\u001b[39m\u001b[38;5;124m\"\u001b[39m, \u001b[38;5;124m\"\u001b[39m\u001b[38;5;124mShooting Accuracy\u001b[39m\u001b[38;5;124m\"\u001b[39m])\n",
      "\u001b[1;31mIndexError\u001b[0m: list index out of range"
     ]
    }
   ],
   "source": [
    "# 1. Đọc dữ liệu từ tệp euro2012.csv vào danh sách\n",
    "with open('euro2012.csv', 'r') as file:\n",
    "    lines = file.readlines()\n",
    "\n",
    "# Chia các dòng thành danh sách\n",
    "data = [line.strip().split(',') for line in lines]\n",
    "\n",
    "# In kiểu dữ liệu, kích thước và danh sách các cột\n",
    "print(\"Kiểu dữ liệu của data:\", type(data))\n",
    "print(\"Kích thước của data:\", len(data), \"dòng, \", len(data[0]), \"cột\")\n",
    "print(\"Danh sách các cột:\", [\"Team\", \"Goals\", \"Yellow Cards\", \"Red Cards\", \"Shooting Accuracy\"])\n"
   ]
  },
  {
   "cell_type": "code",
   "execution_count": null,
   "metadata": {},
   "outputs": [],
   "source": [
    "# 2. In giá trị cột Goals\n",
    "goals_column = [row[1] for row in data]\n",
    "print(\"Giá trị cột Goals:\", goals_column)\n"
   ]
  },
  {
   "cell_type": "code",
   "execution_count": null,
   "metadata": {},
   "outputs": [],
   "source": [
    "# 3. Có bao nhiêu đội tham gia Euro2012?\n",
    "teams = {row[0] for row in data[1:]}  # Sử dụng set để loại bỏ đội trùng lặp\n",
    "num_teams = len(teams)\n",
    "print(\"Số lượng đội tham gia Euro2012:\", num_teams)\n"
   ]
  },
  {
   "cell_type": "code",
   "execution_count": null,
   "metadata": {},
   "outputs": [],
   "source": [
    "# 4. In thông tin của Euro2012.\n",
    "print(\"Thông tin của Euro2012:\")\n",
    "print(\"Tổng số đội:\", len(data) - 1, \"đội\")  # -1 vì có một dòng tiêu đề\n",
    "print(\"Cột:\", [\"Team\", \"Goals\", \"Yellow Cards\", \"Red Cards\", \"Shooting Accuracy\"])"
   ]
  },
  {
   "cell_type": "code",
   "execution_count": null,
   "metadata": {},
   "outputs": [],
   "source": [
    "# 5. Tạo danh sách discipline chỉ chứa 3 cột 'Team', 'Yellow Cards', 'Red Cards'.\n",
    "discipline = [[row[0], row[2], row[3]] for row in data[1:]]\n"
   ]
  },
  {
   "cell_type": "code",
   "execution_count": null,
   "metadata": {},
   "outputs": [],
   "source": [
    "# 6. Sắp xếp discipline giảm dần theo 2 cột 'Red Cards', 'Yellow Cards'.\n",
    "discipline_sorted = sorted(discipline, key=lambda x: (int(x[1]), int(x[2])), reverse=True)\n",
    "print(\"DataFrame discipline sau khi sắp xếp:\")\n",
    "for row in discipline_sorted:\n",
    "    print(row)"
   ]
  },
  {
   "cell_type": "code",
   "execution_count": null,
   "metadata": {},
   "outputs": [],
   "source": [
    "# 7. a) Tính trung bình Yellow Cards.\n",
    "yellow_cards = [int(row[2]) for row in data[1:]]\n",
    "avg_yellow_cards = sum(yellow_cards) / len(yellow_cards)\n",
    "print(\"Trung bình Yellow Cards:\", avg_yellow_cards)\n",
    "\n",
    "# 7.b) Lọc các đội đã ghi hơn 6 bàn thắng.\n",
    "teams_more_than_6_goals = [row for row in data[1:] if int(row[1]) > 6]\n",
    "print(\"Các đội đã ghi hơn 6 bàn thắng:\")\n",
    "for row in teams_more_than_6_goals:\n",
    "    print(row)"
   ]
  },
  {
   "cell_type": "code",
   "execution_count": null,
   "metadata": {},
   "outputs": [],
   "source": [
    "# 8. In các đội mà tên bắt đầu bằng 'G'.\n",
    "teams_starting_with_G = [row for row in data[1:] if row[0].startswith('G')]\n",
    "print(\"Các đội có tên bắt đầu bằng 'G':\")\n",
    "for row in teams_starting_with_G:\n",
    "    print(row)"
   ]
  },
  {
   "cell_type": "code",
   "execution_count": null,
   "metadata": {},
   "outputs": [],
   "source": [
    "# 9. In 7 cột đầu của euro12.\n",
    "print(\"7 cột đầu của euro12:\")\n",
    "for row in data[1:]:\n",
    "    print(row[:7])"
   ]
  },
  {
   "cell_type": "code",
   "execution_count": null,
   "metadata": {},
   "outputs": [],
   "source": [
    "# 10. In tất cả các cột, trừ 3 cột cuối.\n",
    "print(\"Tất cả các cột trừ 3 cột cuối:\")\n",
    "for row in data[1:]:\n",
    "    print(row[:-3])"
   ]
  },
  {
   "cell_type": "code",
   "execution_count": null,
   "metadata": {},
   "outputs": [],
   "source": [
    "# 11. In các cột Team, Goals, Shooting Accuracy, Yellow Cards, Red Cards.\n",
    "print(\"Các cột Team, Goals, Shooting Accuracy, Yellow Cards, Red Cards:\")\n",
    "for row in data[1:]:\n",
    "    print(row[0], row[1], row[4], row[2], row[3])\n"
   ]
  },
  {
   "cell_type": "code",
   "execution_count": null,
   "metadata": {},
   "outputs": [],
   "source": [
    "# 12. In các cột chỉ hiển thị 'Team', 'Shooting Accuracy' từ 'England', 'Italy', 'Russia'.\n",
    "teams_to_display = [row for row in data[1:] if row[0] in ['England', 'Italy', 'Russia']]\n",
    "print(\"Các cột chỉ hiển thị 'Team', 'Shooting Accuracy' từ 'England', 'Italy', 'Russia':\")\n",
    "for row in teams_to_display:\n",
    "    print(row[0], row[4])"
   ]
  }
 ],
 "metadata": {
  "kernelspec": {
   "display_name": "Python 3",
   "language": "python",
   "name": "python3"
  },
  "language_info": {
   "codemirror_mode": {
    "name": "ipython",
    "version": 3
   },
   "file_extension": ".py",
   "mimetype": "text/x-python",
   "name": "python",
   "nbconvert_exporter": "python",
   "pygments_lexer": "ipython3",
   "version": "3.11.9"
  }
 },
 "nbformat": 4,
 "nbformat_minor": 2
}
