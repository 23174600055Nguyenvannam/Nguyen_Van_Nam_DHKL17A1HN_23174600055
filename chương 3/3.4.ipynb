{
 "cells": [
  {
   "cell_type": "code",
   "execution_count": 1,
   "metadata": {},
   "outputs": [
    {
     "name": "stdout",
     "output_type": "stream",
     "text": [
      "arr_zeros sau khi cập nhật: [0 0 0 0 1 0 0 0 0 0]\n"
     ]
    }
   ],
   "source": [
    "import numpy as np\n",
    "\n",
    "# Câu 1: Tạo arr_zeros có 10 phần tử 0 và cập nhật phần tử ở vị trí thứ 5 thành 1\n",
    "arr_zeros = np.zeros(10, dtype=int)\n",
    "arr_zeros[4] = 1  # Cập nhật phần tử ở vị trí thứ 5 (index 4)\n",
    "print(\"arr_zeros sau khi cập nhật:\", arr_zeros)\n"
   ]
  },
  {
   "cell_type": "code",
   "execution_count": 2,
   "metadata": {},
   "outputs": [
    {
     "name": "stdout",
     "output_type": "stream",
     "text": [
      "arr_h theo thứ tự đảo ngược: [24 23 22 21 20 19 18 17 16 15 14 13 12 11 10]\n"
     ]
    }
   ],
   "source": [
    "# Câu 2: Tạo arr_h có giá trị từ 10 đến 24 và in danh sách các phần tử theo thứ tự đảo ngược\n",
    "arr_h = np.arange(10, 25)\n",
    "arr_h_reversed = arr_h[::-1]\n",
    "print(\"arr_h theo thứ tự đảo ngược:\", arr_h_reversed)\n"
   ]
  },
  {
   "cell_type": "code",
   "execution_count": 3,
   "metadata": {},
   "outputs": [
    {
     "name": "stdout",
     "output_type": "stream",
     "text": [
      "arr_1 với các phần tử khác 0: [1 2 8 2 1 3 5]\n"
     ]
    }
   ],
   "source": [
    "# Câu 3: Tạo arr_1 từ arr_k với các phần tử khác 0\n",
    "arr_k = np.array([1, 2, 0, 8, 2, 0, 1, 3, 0, 5, 0])\n",
    "arr_1 = arr_k[arr_k != 0]\n",
    "print(\"arr_1 với các phần tử khác 0:\", arr_1)\n"
   ]
  },
  {
   "cell_type": "code",
   "execution_count": 4,
   "metadata": {},
   "outputs": [
    {
     "name": "stdout",
     "output_type": "stream",
     "text": [
      "arr_1 sau khi thêm 10 và 20: [ 1  2  8  2  1  3  5 10 20]\n"
     ]
    }
   ],
   "source": [
    "# Câu 4: Thêm 2 phần tử có giá trị 10 và 20 vào cuối arr_1\n",
    "arr_1 = np.append(arr_1, [10, 20])\n",
    "print(\"arr_1 sau khi thêm 10 và 20:\", arr_1)\n"
   ]
  },
  {
   "cell_type": "code",
   "execution_count": 5,
   "metadata": {},
   "outputs": [
    {
     "name": "stdout",
     "output_type": "stream",
     "text": [
      "arr_1 sau khi thêm 100 vào vị trí index = 5: [  1   2   8   2   1 100   3   5  10  20]\n"
     ]
    }
   ],
   "source": [
    "# Câu 5: Thêm phần tử có giá trị 100 vào vị trí có index = 5\n",
    "arr_1 = np.insert(arr_1, 5, 100)\n",
    "print(\"arr_1 sau khi thêm 100 vào vị trí index = 5:\", arr_1)"
   ]
  },
  {
   "cell_type": "code",
   "execution_count": 6,
   "metadata": {},
   "outputs": [
    {
     "name": "stdout",
     "output_type": "stream",
     "text": [
      "arr_1 sau khi xóa phần tử tại các vị trí index = 0, 1, 2: [  2   1 100   3   5  10  20]\n"
     ]
    }
   ],
   "source": [
    "# Câu 6: Xóa các phần tử tại vị trí index = 0, 1, 2 từ array của câu 5\n",
    "arr_1 = np.delete(arr_1, [0, 1, 2])\n",
    "print(\"arr_1 sau khi xóa phần tử tại các vị trí index = 0, 1, 2:\", arr_1)"
   ]
  }
 ],
 "metadata": {
  "kernelspec": {
   "display_name": "Python 3",
   "language": "python",
   "name": "python3"
  },
  "language_info": {
   "codemirror_mode": {
    "name": "ipython",
    "version": 3
   },
   "file_extension": ".py",
   "mimetype": "text/x-python",
   "name": "python",
   "nbconvert_exporter": "python",
   "pygments_lexer": "ipython3",
   "version": "3.11.9"
  }
 },
 "nbformat": 4,
 "nbformat_minor": 2
}
