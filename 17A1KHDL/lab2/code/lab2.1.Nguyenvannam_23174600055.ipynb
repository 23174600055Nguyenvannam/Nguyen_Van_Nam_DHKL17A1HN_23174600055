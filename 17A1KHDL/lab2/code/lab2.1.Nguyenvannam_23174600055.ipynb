{
 "cells": [
  {
   "cell_type": "code",
   "execution_count": 10,
   "metadata": {},
   "outputs": [
    {
     "name": "stdout",
     "output_type": "stream",
     "text": [
      "[16.76 32.01 15.71 18.82 29.13 17.4  33.71 15.59 30.66 26.29 25.53 16.43\n",
      " 23.19 34.43 27.   18.34 23.46 21.74 16.38 22.57 23.55 26.5  28.55 18.61\n",
      " 25.68 23.42 22.78 17.89 20.32 23.69]\n",
      "nhiet do trung binh la:  23.2\n"
     ]
    }
   ],
   "source": [
    "import numpy as np\n",
    "list = np.round(np.random.uniform(15,35,30),2)\n",
    "list\n",
    "temp_mean = np.mean(list)\n",
    "print(list)\n",
    "print(\"nhiet do trung binh la: \",np.round(temp_mean,2))"
   ]
  },
  {
   "cell_type": "code",
   "execution_count": 11,
   "metadata": {},
   "outputs": [
    {
     "name": "stdout",
     "output_type": "stream",
     "text": [
      "Nhiệt độ ngày cao nhất trong tháng là 34.43\n",
      "nhiệt độ thấp nhất trong tháng là  15.59\n",
      "Ngày có nhiệt độ thấp nhất là 8\n",
      "ngày có nhiệt độ cao nhất là 14\n"
     ]
    }
   ],
   "source": [
    "max = np.max(list)\n",
    "min = np.min(list)\n",
    "nong = np.argmax(list)+1\n",
    "lanh = np.argmin(list)+1\n",
    "print(\"Nhiệt độ ngày cao nhất trong tháng là\", max)\n",
    "print(\"nhiệt độ thấp nhất trong tháng là \",min)\n",
    "print(\"Ngày có nhiệt độ thấp nhất là\",lanh)\n",
    "print(\"ngày có nhiệt độ cao nhất là\",nong)"
   ]
  },
  {
   "cell_type": "code",
   "execution_count": 12,
   "metadata": {},
   "outputs": [
    {
     "name": "stdout",
     "output_type": "stream",
     "text": [
      "ngày có nhiệt độ chênh lệch lớn nhất là 7 với sự chênh lệch 18.12 độ c\n"
     ]
    }
   ],
   "source": [
    "dif = np.diff(list)\n",
    "max = np.argmax(np.abs(dif)) + 1\n",
    "print(f\"ngày có nhiệt độ chênh lệch lớn nhất là {max} với sự chênh lệch {abs(dif[max-1]):.2f} độ c\")"
   ]
  },
  {
   "cell_type": "code",
   "execution_count": 14,
   "metadata": {},
   "outputs": [
    {
     "name": "stdout",
     "output_type": "stream",
     "text": [
      "cac ngay co nhiet do cao hon 20 la: \n",
      " [32.01 29.13 33.71 30.66 26.29 25.53 23.19 34.43 27.   23.46 21.74 22.57\n",
      " 23.55 26.5  28.55 25.68 23.42 22.78 20.32 23.69]\n",
      "nhiet do cua cac ngay 5,10,15,20 va 25 la: \n",
      "[29.13 26.29 27.   22.57]\n",
      "nhiet do cua cac ngay lon hon trung binh la: \n",
      " [32.01 29.13 33.71 30.66 26.29 25.53 34.43 27.   23.46 23.55 26.5  28.55\n",
      " 25.68 23.42 23.69]\n"
     ]
    }
   ],
   "source": [
    "tempabove20 = list[list>20]\n",
    "print(\"cac ngay co nhiet do cao hon 20 la: \\n\",tempabove20)\n",
    "print(\"nhiet do cua cac ngay 5,10,15,20 va 25 la: \")\n",
    "print(list[[4,9,14,19]])\n",
    "temp_abovemean = list[list>temp_mean]\n",
    "print(\"nhiet do cua cac ngay lon hon trung binh la: \\n\",temp_abovemean)"
   ]
  },
  {
   "cell_type": "code",
   "execution_count": 15,
   "metadata": {},
   "outputs": [
    {
     "name": "stdout",
     "output_type": "stream",
     "text": [
      "nhiet do cac ngay chan la: \n",
      " [16.76 15.71 29.13 33.71 30.66 25.53 23.19 27.   23.46 16.38 23.55 28.55\n",
      " 25.68 22.78 20.32]\n",
      "nhiet do cac ngay le la:\n",
      "  [32.01 18.82 17.4  15.59 26.29 16.43 34.43 18.34 21.74 22.57 26.5  18.61\n",
      " 23.42 17.89 23.69]\n"
     ]
    }
   ],
   "source": [
    "day_chan =list[::2]\n",
    "dat_le = list[1::2]\n",
    "print(\"nhiet do cac ngay chan la: \\n\",day_chan)\n",
    "print(\"nhiet do cac ngay le la:\\n \",dat_le)"
   ]
  }
 ],
 "metadata": {
  "kernelspec": {
   "display_name": "Python 3",
   "language": "python",
   "name": "python3"
  },
  "language_info": {
   "codemirror_mode": {
    "name": "ipython",
    "version": 3
   },
   "file_extension": ".py",
   "mimetype": "text/x-python",
   "name": "python",
   "nbconvert_exporter": "python",
   "pygments_lexer": "ipython3",
   "version": "3.11.9"
  }
 },
 "nbformat": 4,
 "nbformat_minor": 2
}
